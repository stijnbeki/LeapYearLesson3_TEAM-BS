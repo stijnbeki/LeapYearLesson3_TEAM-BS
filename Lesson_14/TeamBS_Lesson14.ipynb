{
 "metadata": {
  "name": "",
  "signature": "sha256:12772a357ee89dc52580f8105e28682f81bb31d296c254643b433a544023ffd8"
 },
 "nbformat": 3,
 "nbformat_minor": 0,
 "worksheets": [
  {
   "cells": [
    {
     "cell_type": "heading",
     "level": 1,
     "metadata": {},
     "source": [
      "Team BS\n",
      "Bart Middelburg\n",
      "Stijn Beernink\n",
      "Thu 26 Jan"
     ]
    },
    {
     "cell_type": "code",
     "collapsed": false,
     "input": [
      "import pip\n",
      "from twython import Twython\n",
      "import pandas as pd \n",
      "import json\n",
      "import datetime \n",
      "#Geocoder can be installed in terminal by calling: ~sudo pip install geocoder\n",
      "import geocoder"
     ],
     "language": "python",
     "metadata": {},
     "outputs": [],
     "prompt_number": 1
    },
    {
     "cell_type": "markdown",
     "metadata": {},
     "source": [
      "codes to access twitter API "
     ]
    },
    {
     "cell_type": "code",
     "collapsed": false,
     "input": [
      "APP_KEY = 'N4omboT3gmZb8dqhzKizormPr'\n",
      "APP_SECRET = 'xfF7o8pvqvK1zx8kxRX6uFNI9YNO3lSOYzY8e8PDyQqB4eyhZi'\n",
      "OAUTH_TOKEN = '824524662394814465-xeylDNzPxXAJWgOUitffDiPL2oFKvcY'\n",
      "OAUTH_TOKEN_SECRET = '5GjzQUf9PtmmWHVPJUd5Ae2utcFWiVjhywnXF2n6A4OiR'"
     ],
     "language": "python",
     "metadata": {},
     "outputs": [],
     "prompt_number": 2
    },
    {
     "cell_type": "markdown",
     "metadata": {},
     "source": [
      "Initiate Twython object"
     ]
    },
    {
     "cell_type": "code",
     "collapsed": false,
     "input": [
      "twitter = Twython(APP_KEY, APP_SECRET, OAUTH_TOKEN, OAUTH_TOKEN_SECRET)"
     ],
     "language": "python",
     "metadata": {},
     "outputs": [],
     "prompt_number": 3
    },
    {
     "cell_type": "markdown",
     "metadata": {},
     "source": [
      "Here you can Define the Search requirements (now looking for \"ongeval\")."
     ]
    },
    {
     "cell_type": "code",
     "collapsed": false,
     "input": [
      "search_results = twitter.search(q='ongeval',count=2000)"
     ],
     "language": "python",
     "metadata": {},
     "outputs": [],
     "prompt_number": 4
    },
    {
     "cell_type": "markdown",
     "metadata": {},
     "source": [
      "Parsing out"
     ]
    },
    {
     "cell_type": "code",
     "collapsed": false,
     "input": [
      "#create empty lists that will be filled in next for loop\n",
      "outcome_coord = []\n",
      "text = []"
     ],
     "language": "python",
     "metadata": {},
     "outputs": [],
     "prompt_number": 5
    },
    {
     "cell_type": "markdown",
     "metadata": {},
     "source": [
      "Next code is a for loop that will look trough the twitter data, in this case the for loop will look at tweets that contan \"places\" data, and from this it will generate lat & long with the geocoder function and returns these coordinates in \"outcome_coord\" and returns the the tweettext in \"text\"."
     ]
    },
    {
     "cell_type": "code",
     "collapsed": false,
     "input": [
      "for tweet in search_results[\"statuses\"]:\n",
      "    if tweet['place'] != None:\n",
      "        tweettext = tweet['text']\n",
      "        full_place_name = tweet['place']['full_name']\n",
      "        g = geocoder.google(full_place_name)\n",
      "        outcome_coord.append(g.latlng)\n",
      "        text.append(tweettext)"
     ],
     "language": "python",
     "metadata": {},
     "outputs": [],
     "prompt_number": 6
    },
    {
     "cell_type": "markdown",
     "metadata": {},
     "source": [
      "The next script generates a folium map, and saves it as a html.\n",
      "The coordinates will be used from the lat & long from the places and the info is from the text list."
     ]
    },
    {
     "cell_type": "code",
     "collapsed": false,
     "input": [
      "import folium\n",
      "mapit = folium.Map( location=[52.2196884, 5.0936663], zoom_start=8 )\n",
      "for coord in outcome_coord:\n",
      "    folium.Marker( location=[ coord[0], coord[1] ]).add_to( mapit )\n",
      "\n",
      "mapit.save('map.html')\n",
      "\n",
      "for i in range(0,len(outcome_coord)):\n",
      "    folium.Marker( location=[ outcome_coord[i][0], outcome_coord[i][1] ], popup = text[i]).add_to( mapit )\n",
      "\n",
      "mapit.save('map.html')\n"
     ],
     "language": "python",
     "metadata": {},
     "outputs": [],
     "prompt_number": 7
    },
    {
     "cell_type": "code",
     "collapsed": false,
     "input": [],
     "language": "python",
     "metadata": {},
     "outputs": []
    }
   ],
   "metadata": {}
  }
 ]
}