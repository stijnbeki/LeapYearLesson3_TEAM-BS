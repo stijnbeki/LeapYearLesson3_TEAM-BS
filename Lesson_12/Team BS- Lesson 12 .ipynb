{
 "metadata": {
  "name": "",
  "signature": "sha256:ed8a2edc48bc82c4ec94a4bec19f941ccb9b473f73bf8cbd41ec4a201658ce7e"
 },
 "nbformat": 3,
 "nbformat_minor": 0,
 "worksheets": [
  {
   "cells": [
    {
     "cell_type": "heading",
     "level": 1,
     "metadata": {},
     "source": [
      "Lesson 12 - Stijn Beernink & Bart Middelburg - Team BS - GeoScripting"
     ]
    },
    {
     "cell_type": "heading",
     "level": 2,
     "metadata": {},
     "source": [
      "Date: 24-01-2017"
     ]
    },
    {
     "cell_type": "markdown",
     "metadata": {},
     "source": [
      "Loading the needed modules"
     ]
    },
    {
     "cell_type": "code",
     "collapsed": false,
     "input": [
      "from osgeo import gdal\n",
      "from osgeo.gdalconst import GA_ReadOnly, GDT_Float32\n",
      "import numpy as np\n",
      "import os\n",
      "import urllib2\n",
      "import tarfile, sys\n",
      "%matplotlib inline\n",
      "import matplotlib.pyplot as plt"
     ],
     "language": "python",
     "metadata": {},
     "outputs": [],
     "prompt_number": 3
    },
    {
     "cell_type": "markdown",
     "metadata": {},
     "source": [
      "Download the file from Dropbox"
     ]
    },
    {
     "cell_type": "code",
     "collapsed": false,
     "input": [
      "landsat_tar = urllib2.urlopen(\"https://www.dropbox.com/s/zb7nrla6fqi1mq4/LC81980242014260-SC20150123044700.tar.gz?dl=1\")\n",
      "with open('landsat.tar.gz','wb') as output:\n",
      "  output.write(landsat_tar.read())"
     ],
     "language": "python",
     "metadata": {},
     "outputs": [],
     "prompt_number": 4
    },
    {
     "cell_type": "markdown",
     "metadata": {},
     "source": [
      "Define a function to be able to untar the files (function is generic, just to show how a function works)"
     ]
    },
    {
     "cell_type": "code",
     "collapsed": false,
     "input": [
      "def untar(fname):\n",
      "    if (fname.endswith(\"tar.gz\")):\n",
      "        tar = tarfile.open(fname)\n",
      "        tar.extractall()\n",
      "        tar.close()\n",
      "        print \"Extracted in Current Directory\"\n",
      "    else:\n",
      "        print \"Not a tar.gz file: '%s '\" % sys.argv[0]"
     ],
     "language": "python",
     "metadata": {},
     "outputs": [],
     "prompt_number": 5
    },
    {
     "cell_type": "markdown",
     "metadata": {},
     "source": [
      "Run the function to untar the file"
     ]
    },
    {
     "cell_type": "code",
     "collapsed": false,
     "input": [
      "untar('landsat.tar.gz')  "
     ],
     "language": "python",
     "metadata": {},
     "outputs": [
      {
       "output_type": "stream",
       "stream": "stdout",
       "text": [
        "Extracted in Current Directory\n"
       ]
      }
     ],
     "prompt_number": 6
    },
    {
     "cell_type": "markdown",
     "metadata": {},
     "source": [
      "Open the two bands needed to calculate the NDWI"
     ]
    },
    {
     "cell_type": "code",
     "collapsed": false,
     "input": [
      "band4= gdal.Open('LC81980242014260LGN00_sr_band4.tif', GA_ReadOnly)\n",
      "band5= gdal.Open('LC81980242014260LGN00_sr_band5.tif', GA_ReadOnly)"
     ],
     "language": "python",
     "metadata": {},
     "outputs": [],
     "prompt_number": 7
    },
    {
     "cell_type": "markdown",
     "metadata": {},
     "source": [
      "Read in as an array to be able to calculate the NDWI"
     ]
    },
    {
     "cell_type": "code",
     "collapsed": false,
     "input": [
      "band4Arr = band4.ReadAsArray(0,0,band4.RasterXSize, band4.RasterYSize)\n",
      "band5Arr = band5.ReadAsArray(0,0,band5.RasterXSize, band5.RasterYSize)"
     ],
     "language": "python",
     "metadata": {},
     "outputs": [],
     "prompt_number": 8
    },
    {
     "cell_type": "markdown",
     "metadata": {},
     "source": [
      "Set the data type to float 32, otherwise it will remain integers. Integers doesn't make any sense when calculating the NDWI."
     ]
    },
    {
     "cell_type": "code",
     "collapsed": false,
     "input": [
      "band4Arr=band4Arr.astype(np.float32)\n",
      "band5Arr=band5Arr.astype(np.float32)"
     ],
     "language": "python",
     "metadata": {},
     "outputs": [],
     "prompt_number": 9
    },
    {
     "cell_type": "markdown",
     "metadata": {},
     "source": [
      "Define a function to calculate ndwi. b4 is band 4 and b5 is band 5. Mask is needed to prevent dividing by zero."
     ]
    },
    {
     "cell_type": "code",
     "collapsed": false,
     "input": [
      "def ndwi_calc(b4, b5):\n",
      "    mask = np.greater(b4+b5,0)\n",
      "    with np.errstate(invalid='ignore',divide='ignore'):\n",
      "        ndwi = np.choose(mask,(-99,(b4-b5)/(b4+b5)))\n",
      "        print \"NDWI min and max values\", ndwi.min(), ndwi.max()\n",
      "        return ndwi "
     ],
     "language": "python",
     "metadata": {},
     "outputs": [],
     "prompt_number": 13
    },
    {
     "cell_type": "markdown",
     "metadata": {},
     "source": [
      "Run the function with the loaded bands before."
     ]
    },
    {
     "cell_type": "code",
     "collapsed": false,
     "input": [
      "ndwi = ndwi_calc(band4Arr, band5Arr)"
     ],
     "language": "python",
     "metadata": {},
     "outputs": [
      {
       "output_type": "stream",
       "stream": "stdout",
       "text": [
        "NDWI min and max values "
       ]
      },
      {
       "output_type": "stream",
       "stream": "stdout",
       "text": [
        "-99.0 "
       ]
      },
      {
       "output_type": "stream",
       "stream": "stdout",
       "text": [
        "21.3333\n"
       ]
      }
     ],
     "prompt_number": 14
    },
    {
     "cell_type": "markdown",
     "metadata": {},
     "source": [
      "Check the real minimum, as the array contains -99. "
     ]
    },
    {
     "cell_type": "code",
     "collapsed": false,
     "input": [
      "print(ndwi[ndwi>-99].min())  "
     ],
     "language": "python",
     "metadata": {},
     "outputs": [
      {
       "output_type": "stream",
       "stream": "stdout",
       "text": [
        "-2.36481\n"
       ]
      }
     ],
     "prompt_number": 15
    },
    {
     "cell_type": "markdown",
     "metadata": {},
     "source": [
      "Remove wrong values (only a few)"
     ]
    },
    {
     "cell_type": "code",
     "collapsed": false,
     "input": [
      "ndwi[ndwi>1] = -99 "
     ],
     "language": "python",
     "metadata": {},
     "outputs": [],
     "prompt_number": 16
    },
    {
     "cell_type": "markdown",
     "metadata": {},
     "source": [
      "Save the created NDWI layer as ndwi.tif. All values with -99 are set to NoData"
     ]
    },
    {
     "cell_type": "code",
     "collapsed": false,
     "input": [
      "band4= gdal.Open('LC81980242014260LGN00_sr_band4.tif', GA_ReadOnly)\n",
      "driver = gdal.GetDriverByName('GTiff')\n",
      "outDataSet=driver.Create('ndwi.tif', band4.RasterXSize, band4.RasterYSize, 1, GDT_Float32)\n",
      "outBand = outDataSet.GetRasterBand(1)\n",
      "outBand.WriteArray(ndwi,0,0)\n",
      "outBand.SetNoDataValue(-99)"
     ],
     "language": "python",
     "metadata": {},
     "outputs": [
      {
       "metadata": {},
       "output_type": "pyout",
       "prompt_number": 17,
       "text": [
        "0"
       ]
      }
     ],
     "prompt_number": 17
    },
    {
     "cell_type": "markdown",
     "metadata": {},
     "source": [
      "Set NDWI to the original projection of band 4"
     ]
    },
    {
     "cell_type": "code",
     "collapsed": false,
     "input": [
      "outDataSet.SetProjection(band4.GetProjection())\n",
      "outDataSet.SetGeoTransform(band4.GetGeoTransform())"
     ],
     "language": "python",
     "metadata": {},
     "outputs": [
      {
       "metadata": {},
       "output_type": "pyout",
       "prompt_number": 18,
       "text": [
        "0"
       ]
      }
     ],
     "prompt_number": 18
    },
    {
     "cell_type": "markdown",
     "metadata": {},
     "source": [
      "Finally we save the tif file."
     ]
    },
    {
     "cell_type": "code",
     "collapsed": false,
     "input": [
      "outBand.FlushCache()\n",
      "outDataSet.FlushCache()"
     ],
     "language": "python",
     "metadata": {},
     "outputs": [],
     "prompt_number": 19
    },
    {
     "cell_type": "markdown",
     "metadata": {},
     "source": [
      "Reproject the NDWI.tif to lon and lat (NDWI_ll.tif)."
     ]
    },
    {
     "cell_type": "code",
     "collapsed": false,
     "input": [
      "bashCommand = 'gdalwarp -t_srs \"EPSG:4326\" ndwi.tif ndwi_ll.tif'\n",
      "os.system(bashCommand)"
     ],
     "language": "python",
     "metadata": {},
     "outputs": [
      {
       "metadata": {},
       "output_type": "pyout",
       "prompt_number": 20,
       "text": [
        "0"
       ]
      }
     ],
     "prompt_number": 20
    },
    {
     "cell_type": "markdown",
     "metadata": {},
     "source": [
      "Open the new projected file"
     ]
    },
    {
     "cell_type": "code",
     "collapsed": false,
     "input": [
      "dsll = gdal.Open(\"ndwi_ll.tif\")"
     ],
     "language": "python",
     "metadata": {},
     "outputs": [],
     "prompt_number": 21
    },
    {
     "cell_type": "markdown",
     "metadata": {},
     "source": [
      "Open as Array"
     ]
    },
    {
     "cell_type": "code",
     "collapsed": false,
     "input": [
      "ndwi = dsll.ReadAsArray(0, 0, dsll.RasterXSize, dsll.RasterYSize)"
     ],
     "language": "python",
     "metadata": {},
     "outputs": [],
     "prompt_number": 22
    },
    {
     "cell_type": "markdown",
     "metadata": {},
     "source": [
      "Finally we plot the result of the whole proces. As you can see it turned out to be visually quite correct. Water is presented quite correctly on the map"
     ]
    },
    {
     "cell_type": "code",
     "collapsed": false,
     "input": [
      "plt.imshow(ndwi, interpolation='nearest', vmin=0, cmap=plt.cm.Blues)\n",
      "plt.title(\"NDWI western part of the Netherlands\")\n",
      "plt.colorbar()\n",
      "plt.show()\n",
      "\n",
      "dsll = None"
     ],
     "language": "python",
     "metadata": {},
     "outputs": [
      {
       "metadata": {},
       "output_type": "display_data",
       "png": "[encoded data removed]",
       "text": [
        "<matplotlib.figure.Figure at 0x7f4c10ab0fd0>"
       ]
      }
     ],
     "prompt_number": 26
    },
    {
     "cell_type": "markdown",
     "metadata": {},
     "source": [
      "Pretty nice plot isn't it? \n",
      "\n",
      "Greetings,\n",
      "Team BS"
     ]
    }
   ],
   "metadata": {}
  }
 ]
}