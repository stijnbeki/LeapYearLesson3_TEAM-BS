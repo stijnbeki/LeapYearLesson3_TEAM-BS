{
 "metadata": {
  "name": "",
  "signature": "sha256:5f11840a4b60bac6d4b969543ddc4bab077944497bd36e3941f90b6a0df7bddc"
 },
 "nbformat": 3,
 "nbformat_minor": 0,
 "worksheets": [
  {
   "cells": [
    {
     "cell_type": "heading",
     "level": 1,
     "metadata": {},
     "source": [
      "TEAM BS\n",
      "BART MIDDELBURG\n",
      "STIJN BEERNINK\n",
      "23-01-2017\n",
      "\n"
     ]
    },
    {
     "cell_type": "markdown",
     "metadata": {},
     "source": [
      "Loading the modules"
     ]
    },
    {
     "cell_type": "code",
     "collapsed": false,
     "input": [
      "import os\n",
      "\n",
      "from osgeo import ogr, osr"
     ],
     "language": "python",
     "metadata": {},
     "outputs": [],
     "prompt_number": 2
    },
    {
     "cell_type": "markdown",
     "metadata": {},
     "source": [
      "Is the GeoSJON driver available?"
     ]
    },
    {
     "cell_type": "code",
     "collapsed": false,
     "input": [
      "driverName = \"GeoJSON\"\n",
      "\n",
      "drv = ogr.GetDriverByName( driverName )\n",
      "\n",
      "if drv is None:\n",
      "\n",
      "    print \"%s driver not available.\\n\" % driverName\n",
      "\n",
      "else:\n",
      "\n",
      "    print  \"%s driver IS available.\\n\" % driverName\n"
     ],
     "language": "python",
     "metadata": {},
     "outputs": [
      {
       "output_type": "stream",
       "stream": "stdout",
       "text": [
        "GeoJSON driver IS available.\n",
        "\n"
       ]
      }
     ],
     "prompt_number": 3
    },
    {
     "cell_type": "markdown",
     "metadata": {},
     "source": [
      "Create your filenames"
     ]
    },
    {
     "cell_type": "code",
     "collapsed": false,
     "input": [
      "fn = \"points_les11.geojson\"\n",
      "\n",
      "layername = \"layer_les11\""
     ],
     "language": "python",
     "metadata": {},
     "outputs": [],
     "prompt_number": 5
    },
    {
     "cell_type": "markdown",
     "metadata": {},
     "source": [
      "Create the files with the given filenames"
     ]
    },
    {
     "cell_type": "code",
     "collapsed": false,
     "input": [
      "ds = drv.CreateDataSource(fn)\n",
      "print ds.GetRefCount()"
     ],
     "language": "python",
     "metadata": {},
     "outputs": [
      {
       "output_type": "stream",
       "stream": "stdout",
       "text": [
        "1\n"
       ]
      }
     ],
     "prompt_number": 6
    },
    {
     "cell_type": "markdown",
     "metadata": {},
     "source": [
      "Set the Spatial reference to WGS84"
     ]
    },
    {
     "cell_type": "code",
     "collapsed": false,
     "input": [
      "spatialReference = osr.SpatialReference()\n",
      "spatialReference.ImportFromProj4('+proj=longlat +ellps=WGS84 +datum=WGS84 +no_defs')\n"
     ],
     "language": "python",
     "metadata": {},
     "outputs": [
      {
       "metadata": {},
       "output_type": "pyout",
       "prompt_number": 7,
       "text": [
        "0"
       ]
      }
     ],
     "prompt_number": 7
    },
    {
     "cell_type": "markdown",
     "metadata": {},
     "source": [
      "Create the layer with the given variables above"
     ]
    },
    {
     "cell_type": "code",
     "collapsed": false,
     "input": [
      "layer=ds.CreateLayer(layername, spatialReference, ogr.wkbPoint)\n"
     ],
     "language": "python",
     "metadata": {},
     "outputs": [],
     "prompt_number": 8
    },
    {
     "cell_type": "markdown",
     "metadata": {},
     "source": [
      "Create the points where you can add the data"
     ]
    },
    {
     "cell_type": "code",
     "collapsed": false,
     "input": [
      "bart_home = ogr.Geometry(ogr.wkbPoint)\n",
      "stijn_home = ogr.Geometry(ogr.wkbPoint)\n"
     ],
     "language": "python",
     "metadata": {},
     "outputs": [],
     "prompt_number": 9
    },
    {
     "cell_type": "markdown",
     "metadata": {},
     "source": [
      "Append the created points with the coordinates"
     ]
    },
    {
     "cell_type": "code",
     "collapsed": false,
     "input": [
      "bart_home.SetPoint(0, 6.560159, 52.989536) \n",
      "stijn_home.SetPoint(0, 5.668627, 51.850923)\n"
     ],
     "language": "python",
     "metadata": {},
     "outputs": [],
     "prompt_number": 10
    },
    {
     "cell_type": "markdown",
     "metadata": {},
     "source": [
      "Create two features where we can add the points"
     ]
    },
    {
     "cell_type": "code",
     "collapsed": false,
     "input": [
      "layerDefinition = layer.GetLayerDefn()\n",
      "feature1 = ogr.Feature(layerDefinition)\n",
      "feature2 = ogr.Feature(layerDefinition)\n"
     ],
     "language": "python",
     "metadata": {},
     "outputs": [],
     "prompt_number": 11
    },
    {
     "cell_type": "markdown",
     "metadata": {},
     "source": [
      "Lets add the points to the feature"
     ]
    },
    {
     "cell_type": "code",
     "collapsed": false,
     "input": [
      "feature1.SetGeometry(bart_home)\n",
      "feature2.SetGeometry(stijn_home)"
     ],
     "language": "python",
     "metadata": {},
     "outputs": [
      {
       "metadata": {},
       "output_type": "pyout",
       "prompt_number": 12,
       "text": [
        "0"
       ]
      }
     ],
     "prompt_number": 12
    },
    {
     "cell_type": "markdown",
     "metadata": {},
     "source": [
      "Lets add the features to the layer"
     ]
    },
    {
     "cell_type": "code",
     "collapsed": false,
     "input": [
      "layer.CreateFeature(feature1)\n",
      "layer.CreateFeature(feature2)\n",
      "print \"The new extent\"\n",
      "print layer.GetExtent()\n"
     ],
     "language": "python",
     "metadata": {},
     "outputs": [
      {
       "output_type": "stream",
       "stream": "stdout",
       "text": [
        "The new extent\n",
        "(0.0, 0.0, 0.0, 0.0)\n"
       ]
      }
     ],
     "prompt_number": 13
    },
    {
     "cell_type": "code",
     "collapsed": false,
     "input": [
      "ds.Destroy()\n",
      "\n",
      "import folium\n",
      "import os"
     ],
     "language": "python",
     "metadata": {},
     "outputs": [],
     "prompt_number": 14
    },
    {
     "cell_type": "markdown",
     "metadata": {},
     "source": [
      "Convert to a html."
     ]
    },
    {
     "cell_type": "code",
     "collapsed": false,
     "input": [
      "pointsGeo=os.path.join(\"points_les11.geojson\")\n",
      "map_points = folium.Map(location=[52,5.7],tiles='Mapbox Bright', zoom_start=6)\n",
      "map_points.choropleth(geo_path=pointsGeo)\n",
      "map_points.save('points_les11.html')\n"
     ],
     "language": "python",
     "metadata": {},
     "outputs": [],
     "prompt_number": 17
    },
    {
     "cell_type": "code",
     "collapsed": false,
     "input": [
      "##Here we try to have an interactive html file in this notebook. This did not work untill now.\n",
      "#from IPython.core.display import display, HTML\n",
      "#display(HTML('points_les11.html'))"
     ],
     "language": "python",
     "metadata": {},
     "outputs": [],
     "prompt_number": 18
    },
    {
     "cell_type": "markdown",
     "metadata": {},
     "source": [
      "To create a KML file we called the command used in the tutorial in Python. We converted the Geojson to KML."
     ]
    },
    {
     "cell_type": "code",
     "collapsed": false,
     "input": [
      "bashCommand = \"ogr2ogr -f kml -t_srs crs:84 points_les11.kml points_les11.geojson\"\n",
      "os.system(bashCommand)"
     ],
     "language": "python",
     "metadata": {},
     "outputs": [
      {
       "metadata": {},
       "output_type": "pyout",
       "prompt_number": 16,
       "text": [
        "0"
       ]
      }
     ],
     "prompt_number": 16
    }
   ],
   "metadata": {}
  }
 ]
}